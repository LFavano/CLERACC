{
  "nbformat": 4,
  "nbformat_minor": 0,
  "metadata": {
    "colab": {
      "name": "Copy of Dataset Creator.ipynb",
      "version": "0.3.2",
      "provenance": [],
      "collapsed_sections": []
    },
    "kernelspec": {
      "name": "python3",
      "display_name": "Python 3"
    }
  },
  "cells": [
    {
      "cell_type": "code",
      "metadata": {
        "id": "6K4og6HVRogX",
        "colab_type": "code",
        "colab": {}
      },
      "source": [
        "import pandas as pd"
      ],
      "execution_count": 0,
      "outputs": []
    },
    {
      "cell_type": "code",
      "metadata": {
        "id": "6C_t3d9GNCOh",
        "colab_type": "code",
        "colab": {}
      },
      "source": [
        "_COL_NAMES = ['claim', 'article', 'label','language','url','publisher']\n",
        "dataset = pd.read_csv('dataset.csv',  index_col=None,names=_COL_NAMES, sep='\\t')\n",
        "dataset = dataset.dropna()\n",
        "dataset.info()"
      ],
      "execution_count": 0,
      "outputs": []
    },
    {
      "cell_type": "code",
      "metadata": {
        "id": "FFI107WstUjl",
        "colab_type": "code",
        "outputId": "7d2eada6-33ef-4aa2-93bb-29614c158ebc",
        "colab": {
          "base_uri": "https://localhost:8080/",
          "height": 255
        }
      },
      "source": [
        "pip install readability-lxml"
      ],
      "execution_count": 0,
      "outputs": [
        {
          "output_type": "stream",
          "text": [
            "Collecting readability-lxml\n",
            "  Downloading https://files.pythonhosted.org/packages/af/a7/8ea52b2d3de4a95c3ed8255077618435546386e35af8969744c0fa82d0d6/readability-lxml-0.7.1.tar.gz\n",
            "Requirement already satisfied: chardet in /usr/local/lib/python3.6/dist-packages (from readability-lxml) (3.0.4)\n",
            "Requirement already satisfied: lxml in /usr/local/lib/python3.6/dist-packages (from readability-lxml) (4.2.6)\n",
            "Collecting cssselect (from readability-lxml)\n",
            "  Downloading https://files.pythonhosted.org/packages/3b/d4/3b5c17f00cce85b9a1e6f91096e1cc8e8ede2e1be8e96b87ce1ed09e92c5/cssselect-1.1.0-py2.py3-none-any.whl\n",
            "Building wheels for collected packages: readability-lxml\n",
            "  Building wheel for readability-lxml (setup.py) ... \u001b[?25l\u001b[?25hdone\n",
            "  Created wheel for readability-lxml: filename=readability_lxml-0.7.1-cp36-none-any.whl size=16480 sha256=a6a4a5a70f83e3a00cc9017087882219b04d56c3722111714e6d2cfa70f77ecf\n",
            "  Stored in directory: /root/.cache/pip/wheels/94/48/e5/d944e616d8b0734c3b9cf30a21f4afcf855a1e2b85f82f34fb\n",
            "Successfully built readability-lxml\n",
            "Installing collected packages: cssselect, readability-lxml\n",
            "Successfully installed cssselect-1.1.0 readability-lxml-0.7.1\n"
          ],
          "name": "stdout"
        }
      ]
    },
    {
      "cell_type": "code",
      "metadata": {
        "id": "VJbn3-B7irxr",
        "colab_type": "code",
        "colab": {}
      },
      "source": [
        "import os\n",
        "import json\n",
        "import requests\n",
        "import re\n",
        "from bs4 import BeautifulSoup\n",
        "from readability import Document\n",
        "  \n",
        "#dataset = pd.DataFrame(columns=['claim', 'article', 'label','language','url','publisher'])\n",
        "#d=[]\n",
        "\n",
        "for filename in os.listdir(os.getcwd()):\n",
        "  \n",
        "  print(filename)\n",
        "  if(filename=='.ipynb_checkpoints'):\n",
        "    continue\n",
        "  with open(filename) as json_file:  \n",
        "    data = json.load(json_file)\n",
        "\n",
        "    for c in data['claims']:\n",
        "      \n",
        "      for r in c['claimReview']:\n",
        "        claim = r['title']\n",
        "        url = r['url']\n",
        "        site = r['publisher']['site']\n",
        "        label = r['textualRating']\n",
        "        lang = r['languageCode']\n",
        "\n",
        "      response = requests.get(url)\n",
        "      doc = Document(response.text)\n",
        "      summary = doc.summary()\n",
        "      \n",
        "      body = re.sub('<.*?>', '', summary)\n",
        "      body = re.sub(r'^https?:\\/\\/.*[\\r\\n]*', '', body, flags=re.MULTILINE)\n",
        "      body = re.sub('&#13;', '', body)\n",
        "      body = re.sub('[^A-Za-z0-9 ]+', '', body)\n",
        "      body = re.sub(' +', ' ', body)\n",
        "      \n",
        "      d.append((claim,body,label,lang,url,site))1\n",
        "      "
      ],
      "execution_count": 0,
      "outputs": []
    },
    {
      "cell_type": "code",
      "metadata": {
        "id": "o9PsL_KC-Gwy",
        "colab_type": "code",
        "colab": {}
      },
      "source": [
        "dataset = pd.DataFrame(d, columns=['claim', 'article', 'label','language','url','publisher'])"
      ],
      "execution_count": 0,
      "outputs": []
    },
    {
      "cell_type": "code",
      "metadata": {
        "id": "v4Tr6vNBLu70",
        "colab_type": "code",
        "colab": {}
      },
      "source": [
        "dataset.loc[dataset['label'].str.lower() == 'panzana pazzesca', 'label'] = 'Lie'\n",
        "dataset.loc[dataset['label'].str.lower() == 'pants on fire', 'label'] = 'Lie'\n",
        "dataset.loc[dataset['label'].str.lower() == 'trompeur', 'label'] = 'Lie'\n",
        "\n",
        "\n",
        "dataset.loc[dataset['label'].str.lower() == 'false', 'label'] = 'False'\n",
        "dataset.loc[dataset['label'].str.lower() == 'wrong', 'label'] = 'False'\n",
        "dataset.loc[dataset['label'].str.lower() == 'falso', 'label'] = 'False'\n",
        "dataset.loc[dataset['label'].str.lower() == 'faux', 'label'] = 'False'\n",
        "dataset.loc[dataset['label'].str.lower() == 'falso', 'label'] = 'False'\n",
        "dataset.loc[dataset['label'].str.lower() == 'fake', 'label'] = 'False'\n",
        "dataset.loc[dataset['label'].str.lower() == 'not even close.', 'label'] = 'False'\n",
        "\n",
        "\n",
        "dataset.loc[dataset['label'].str.lower() == 'mostly false', 'label'] = 'Mostly False'\n",
        "dataset.loc[dataset['label'].str.lower() == 'data is fishy', 'label'] = 'Mostly False'\n",
        "dataset.loc[dataset['label'].str.lower() == 'disputed', 'label'] = 'Mostly False'\n",
        "dataset.loc[dataset['label'].str.lower() == 'not quite right', 'label'] = 'Mostly False'\n",
        "dataset.loc[dataset['label'].str.lower() == 'not the whole story', 'label'] = 'Mostly False'\n",
        "dataset.loc[dataset['label'].str.lower() == 'controverso', 'label'] = 'Mostly False'\n",
        "dataset.loc[dataset['label'].str.lower() == 'pinocchio andante', 'label'] = 'Mostly False'\n",
        "dataset.loc[dataset['label'].str.lower() == 'fausse légende', 'label'] = 'Mostly False'\n",
        "dataset.loc[dataset['label'].str.lower() == 'contraditorio', 'label'] = 'Mostly False'\n",
        "dataset.loc[dataset['label'].str.lower() == 'no evidence', 'label'] = 'Mostly False'\n",
        "dataset.loc[dataset['label'].str.lower() == 'distorcido', 'label'] = 'Mostly False'\n",
        "dataset.loc[dataset['label'].str.lower() == 'plutôt faux', 'label'] = 'Mostly False'\n",
        "dataset.loc[dataset['label'].str.lower() == 'exaggerates', 'label'] = 'Mostly False'\n",
        "dataset.loc[dataset['label'].str.lower() == 'exagerated', 'label'] = 'Mostly False'\n",
        "dataset.loc[dataset['label'].str.lower() == 'flip flop', 'label'] = 'Mostly False'\n",
        "dataset.loc[dataset['label'].str.lower() == 'contraditório', 'label'] = 'Mostly False'\n",
        "dataset.loc[dataset['label'].str.lower() == 'inflated', 'label'] = 'Mostly False'\n",
        "dataset.loc[dataset['label'].str.lower() == 'sem evidências', 'label'] = 'Mostly False'\n",
        "dataset.loc[dataset['label'].str.lower() == 'inflated', 'label'] = 'Mostly False'\n",
        "dataset.loc[dataset['label'].str.lower() == 'c’est exagéré', 'label'] = 'Mostly False'\n",
        "\n",
        "\n",
        "dataset.loc[dataset['label'].str.lower() == 'barely true', 'label'] = 'Barely True'\n",
        "dataset.loc[dataset['label'].str.lower() == 'fuzzy math', 'label'] = 'Barely True'\n",
        "dataset.loc[dataset['label'].str.lower() == 'depends on math', 'label'] = 'Barely True'\n",
        "dataset.loc[dataset['label'].str.lower() == 'out of context', 'label'] = 'Barely True'\n",
        "dataset.loc[dataset['label'].str.lower() == 'evidence is mixed', 'label'] = 'Barely True'\n",
        "dataset.loc[dataset['label'].str.lower() == 'distorts the facts', 'label'] = 'Barely True'\n",
        "dataset.loc[dataset['label'].str.lower() == 'spins the facts', 'label'] = 'Barely True'\n",
        "dataset.loc[dataset['label'].str.lower() == 'subestimado', 'label'] = 'Barely True'\n",
        "dataset.loc[dataset['label'].str.lower() == 'unsupported', 'label'] = 'Barely True'\n",
        "dataset.loc[dataset['label'].str.lower() == 'ainda é cedo para dizer', 'label'] = 'Barely True'\n",
        "dataset.loc[dataset['label'].str.lower() == 'apresurado', 'label'] = 'Barely True'\n",
        "dataset.loc[dataset['label'].str.lower() == 'mixed', 'label'] = 'Barely True'\n",
        "dataset.loc[dataset['label'].str.lower() == 'mixto', 'label'] = 'Barely True'\n",
        "dataset.loc[dataset['label'].str.lower() == 'hard to categorise ', 'label'] = 'Barely True'\n",
        "dataset.loc[dataset['label'].str.lower() == 'mis- leading', 'label'] = 'Barely True'\n",
        "dataset.loc[dataset['label'].str.lower() == 'incumplida', 'label'] = 'Barely True'\n",
        "dataset.loc[dataset['label'].str.lower() == 'in dispute', 'label'] = 'Barely True'\n",
        "dataset.loc[dataset['label'].str.lower() == 'c’est discutable', 'label'] = 'Barely True'\n",
        "dataset.loc[dataset['label'].str.lower() == 'c’est plus compliqué', 'label'] = 'Barely True'\n",
        "\n",
        "\n",
        "dataset.loc[dataset['label'].str.lower() == 'half true', 'label'] = 'Half True'\n",
        "dataset.loc[dataset['label'].str.lower() == 'needs context', 'label'] = 'Half True'\n",
        "dataset.loc[dataset['label'].str.lower() == 'out of date', 'label'] = 'Half True'\n",
        "dataset.loc[dataset['label'].str.lower() == 'lacks context', 'label'] = 'Half True'\n",
        "dataset.loc[dataset['label'].str.lower() == 'ni', 'label'] = 'Half True'\n",
        "dataset.loc[dataset['label'].str.lower() == 'nì', 'label'] = 'Half True'\n",
        "dataset.loc[dataset['label'].str.lower() == 'douteux', 'label'] = 'Half True'\n",
        "dataset.loc[dataset['label'].str.lower() == 'mostly true', 'label'] = 'Half True'\n",
        "dataset.loc[dataset['label'].str.lower() == 'plutôt vrai', 'label'] = 'Half True'\n",
        "dataset.loc[dataset['label'].str.lower() == 'c’est en partie vrai', 'label'] = 'Half True'\n",
        "dataset.loc[dataset['label'].str.lower() == 'c’est plutôt vrai', 'label'] = 'Half True'\n",
        "\n",
        "\n",
        "dataset.loc[dataset['label'].str.lower() == 'correct', 'label'] = 'True'\n",
        "dataset.loc[dataset['label'].str.lower() == 'geppetto checkmark', 'label'] = 'True'\n",
        "dataset.loc[dataset['label'].str.lower() == 'true', 'label'] = 'True'\n",
        "dataset.loc[dataset['label'].str.lower() == 'verdadero', 'label'] = 'True'\n",
        "dataset.loc[dataset['label'].str.lower() == 'vero', 'label'] = 'True'\n",
        "dataset.loc[dataset['label'].str.lower() == 'vrai', 'label'] = 'True'\n",
        "dataset.loc[dataset['label'].str.lower() == 'this is accurate.', 'label'] = 'True'"
      ],
      "execution_count": 0,
      "outputs": []
    },
    {
      "cell_type": "code",
      "metadata": {
        "id": "tDO1aFnwNn_E",
        "colab_type": "code",
        "colab": {}
      },
      "source": [
        "dataset.loc[dataset['label'].str.contains('four pinocchios', case=False), 'label'] = 'Lie'\n",
        "dataset.loc[dataset['label'].str.contains('three pinocchios', case=False), 'label'] = 'Lie'\n",
        "dataset.loc[dataset['label'].str.contains('two pinocchios', case=False), 'label'] = 'Lie'\n",
        "dataset.loc[dataset['label'].str.contains('one pinocchio', case=False), 'label'] = 'Lie'\n",
        "dataset.loc[dataset['label'].str.contains('Engañoso', case=False), 'label'] = 'Lie'\n",
        "dataset.loc[dataset['label'].str.contains('Engañoso', case=False), 'label'] = 'Lie'\n",
        "dataset.loc[dataset['label'].str.contains('Enganoso', case=False), 'label'] = 'Lie'\n",
        "dataset.loc[dataset['label'].str.contains('Fälschung', case=False), 'label'] = 'Lie'\n",
        "dataset.loc[dataset['label'].str.contains('Mentira', case=False), 'label'] = 'Lie'\n",
        "dataset.loc[dataset['label'].str.contains('montaje', case=False), 'label'] = 'Lie'\n",
        "\n",
        "\n",
        "dataset.loc[dataset['label'].str.contains('False.', case=False), 'label'] = 'False'\n",
        "dataset.loc[dataset['label'].str.contains('False.', case=False), 'label'] = 'False'\n",
        "dataset.loc[dataset['label'].str.contains('False.', case=False), 'label'] = 'False'\n",
        "dataset.loc[dataset['label'].str.contains('Falso:', case=False), 'label'] = 'False'\n",
        "dataset.loc[dataset['label'].str.contains('False:', case=False), 'label'] = 'False'\n",
        "dataset.loc[dataset['label'].str.contains('the opposite', case=False), 'label'] = 'False'\n",
        "dataset.loc[dataset['label'].str.contains('not true', case=False), 'label'] = 'False'\n",
        "dataset.loc[dataset['label'].str.contains('est faux', case=False), 'label'] = 'False'\n",
        "dataset.loc[dataset['label'].str.contains('YANLIŞ', case=False), 'label'] = 'False'\n",
        "dataset.loc[dataset['label'].str.contains('Falsch', case=False), 'label'] = 'False'\n",
        "dataset.loc[dataset['label'].str.contains('Flat-out wrong', case=False), 'label'] = 'False'\n",
        "\n",
        "\n",
        "dataset.loc[dataset['label'].str.contains('lacks evidence', case=False), 'label'] = 'Mostly False'\n",
        "dataset.loc[dataset['label'].str.contains('exaggerated', case=False), 'label'] = 'Mostly False'\n",
        "dataset.loc[dataset['label'].str.contains('exaggeration', case=False), 'label'] = 'Mostly False'\n",
        "dataset.loc[dataset['label'].str.contains('hardly reliable', case=False), 'label'] = 'Mostly False'\n",
        "dataset.loc[dataset['label'].str.contains('no proof', case=False), 'label'] = 'Mostly False'\n",
        "dataset.loc[dataset['label'].str.contains('been true for months', case=False), 'label'] = 'Mostly False'\n",
        "dataset.loc[dataset['label'].str.contains('Exagerado', case=False), 'label'] = 'Mostly False'\n",
        "dataset.loc[dataset['label'].str.contains('Insustentável', case=False), 'label'] = 'Mostly False'\n",
        "dataset.loc[dataset['label'].str.contains('Insostenible', case=False), 'label'] = 'Mostly False'\n",
        "dataset.loc[dataset['label'].str.contains('est plutôt faux', case=False), 'label'] = 'Mostly False'\n",
        "dataset.loc[dataset['label'].str.contains('existe pas', case=False), 'label'] = 'Mostly False'\n",
        "dataset.loc[dataset['label'].str.contains('Beleg dafür', case=False), 'label'] = 'Mostly False'\n",
        "dataset.loc[dataset['label'].str.contains('einigen Teilen falsch', case=False), 'label'] = 'Mostly False'\n",
        "dataset.loc[dataset['label'].str.contains('nicht wahr', case=False), 'label'] = 'Mostly False'\n",
        "dataset.loc[dataset['label'].str.contains('Not Reality', case=False), 'label'] = 'Mostly False'\n",
        "dataset.loc[dataset['label'].str.contains('Not exactly', case=False), 'label'] = 'Mostly False'\n",
        "dataset.loc[dataset['label'].str.contains('infonde', case=False), 'label'] = 'Mostly False'\n",
        "dataset.loc[dataset['label'].str.contains('FAUSSE LÉGENDE', case=False), 'label'] = 'Mostly False'\n",
        "dataset.loc[dataset['label'].str.contains('flip-', case=False), 'label'] = 'Mostly False'\n",
        "dataset.loc[dataset['label'].str.contains('spinning the facts', case=False), 'label'] = 'Mostly False'\n",
        "dataset.loc[dataset['label'].str.contains('Too far.', case=False), 'label'] = 'Mostly False'\n",
        "dataset.loc[dataset['label'].str.contains('détournée', case=False), 'label'] = 'Mostly False'\n",
        "dataset.loc[dataset['label'].str.contains('très exagéré', case=False), 'label'] = 'Mostly False'\n",
        "dataset.loc[dataset['label'].str.contains('Highly unlikely', case=False), 'label'] = 'Mostly False'\n",
        "dataset.loc[dataset['label'].str.contains('is disputed', case=False), 'label'] = 'Mostly False'\n",
        "\n",
        "\n",
        "dataset.loc[dataset['label'].str.contains('outdated', case=False), 'label'] = 'Barely True'\n",
        "dataset.loc[dataset['label'].str.contains('not quite.', case=False), 'label'] = 'Barely True'\n",
        "dataset.loc[dataset['label'].str.contains('Vrai et Faux', case=False), 'label'] = 'Barely True'\n",
        "dataset.loc[dataset['label'].str.contains('not quite', case=False), 'label'] = 'Barely True'\n",
        "dataset.loc[dataset['label'].str.contains('BELİRSİZ', case=False), 'label'] = 'Barely True'\n",
        "dataset.loc[dataset['label'].str.contains('Pimenta', case=False), 'label'] = 'Barely True'\n",
        "dataset.loc[dataset['label'].str.contains('Erfundene', case=False), 'label'] = 'Barely True'\n",
        "dataset.loc[dataset['label'].str.contains('Impreciso', case=False), 'label'] = 'Barely True'\n",
        "dataset.loc[dataset['label'].str.contains('de olho', case=False), 'label'] = 'Barely True'\n",
        "dataset.loc[dataset['label'].str.contains('Discutible', case=False), 'label'] = 'Barely True'\n",
        "dataset.loc[dataset['label'].str.contains('eri quasi', case=False), 'label'] = 'Barely True'\n",
        "dataset.loc[dataset['label'].str.contains('overstatement', case=False), 'label'] = 'Barely True'\n",
        "dataset.loc[dataset['label'].str.contains('once true', case=False), 'label'] = 'Barely True'\n",
        "dataset.loc[dataset['label'].str.contains('needs more context', case=False), 'label'] = 'Barely True'\n",
        "dataset.loc[dataset['label'].str.contains('overstated', case=False), 'label'] = 'Barely True'\n",
        "dataset.loc[dataset['label'].str.contains('out of context', case=False), 'label'] = 'Barely True'\n",
        "dataset.loc[dataset['label'].str.contains('but it was true', case=False), 'label'] = 'Barely True'\n",
        "dataset.loc[dataset['label'].str.contains('not so fast.', case=False), 'label'] = 'Barely True'\n",
        "dataset.loc[dataset['label'].str.contains('Twists the Facts', case=False), 'label'] = 'Barely True'\n",
        "dataset.loc[dataset['label'].str.contains('A step too far.', case=False), 'label'] = 'Barely True'\n",
        "dataset.loc[dataset['label'].str.contains('Not accurate', case=False), 'label'] = 'Barely True'\n",
        "dataset.loc[dataset['label'].str.contains('Goes too far', case=False), 'label'] = 'Barely True'\n",
        "dataset.loc[dataset['label'].str.contains('Der Titel ist Clickbait', case=False), 'label'] = 'Barely True'\n",
        "\n",
        "\n",
        "dataset.loc[dataset['label'].str.contains('misleading', case=False), 'label'] = 'Half True'\n",
        "dataset.loc[dataset['label'].str.contains('accurate, if', case=False), 'label'] = 'Half True'\n",
        "dataset.loc[dataset['label'].str.contains('Verdadeiro, mas', case=False), 'label'] = 'Half True'\n",
        "dataset.loc[dataset['label'].str.contains('Verdadero, pero', case=False), 'label'] = 'Half True'\n",
        "dataset.loc[dataset['label'].str.contains('wishful thinking if', case=False), 'label'] = 'Half True'\n",
        "dataset.loc[dataset['label'].str.contains('Größtenteils richtig', case=False), 'label'] = 'Half True'\n",
        "dataset.loc[dataset['label'].str.contains('KARMA', case=False), 'label'] = 'Half True'\n",
        "dataset.loc[dataset['label'].str.contains('Meia-verdade, if', case=False), 'label'] = 'Half True'\n",
        "\n",
        "\n",
        "dataset.loc[dataset['label'].str.contains('she can back it up', case=False), 'label'] = 'True'\n",
        "dataset.loc[dataset['label'].str.contains('true:', case=False), 'label'] = 'True'\n",
        "dataset.loc[dataset['label'].str.contains('Verdad', case=False), 'label'] = 'True'\n",
        "dataset.loc[dataset['label'].str.contains('est vrai', case=False), 'label'] = 'True'\n",
        "dataset.loc[dataset['label'].str.contains('Stimmt', case=False), 'label'] = 'True'\n",
        "dataset.loc[dataset['label'].str.contains('DOĞRU', case=False), 'label'] = 'True'\n",
        "dataset.loc[dataset['label'].str.contains('right on target', case=False), 'label'] = 'True'\n",
        "dataset.loc[dataset['label'].str.contains('reports suggest it', case=False), 'label'] = 'True'\n",
        "dataset.loc[dataset['label'].str.contains('True.', case=False), 'label'] = 'True'"
      ],
      "execution_count": 0,
      "outputs": []
    },
    {
      "cell_type": "code",
      "metadata": {
        "id": "BR7tO8M-j9Kz",
        "colab_type": "code",
        "outputId": "a1a63009-e2e5-4519-dac5-29dbb10f7064",
        "colab": {
          "base_uri": "https://localhost:8080/",
          "height": 204
        }
      },
      "source": [
        "dataset2 = dataset[dataset['label'].isin(['False','Lie','Barely True','Half True','Mostly False','True'])]\n",
        "dataset2.info()"
      ],
      "execution_count": 0,
      "outputs": [
        {
          "output_type": "stream",
          "text": [
            "<class 'pandas.core.frame.DataFrame'>\n",
            "Int64Index: 15512 entries, 1 to 16281\n",
            "Data columns (total 6 columns):\n",
            "claim        15512 non-null object\n",
            "article      15512 non-null object\n",
            "label        15512 non-null object\n",
            "language     15512 non-null object\n",
            "url          15512 non-null object\n",
            "publisher    15512 non-null object\n",
            "dtypes: object(6)\n",
            "memory usage: 848.3+ KB\n"
          ],
          "name": "stdout"
        }
      ]
    },
    {
      "cell_type": "code",
      "metadata": {
        "id": "e3hy58sjkf8r",
        "colab_type": "code",
        "colab": {}
      },
      "source": [
        "dataset2.to_csv(\"factcheckv1.csv\", sep='\\t', encoding='utf-8', index=False)"
      ],
      "execution_count": 0,
      "outputs": []
    }
  ]
}